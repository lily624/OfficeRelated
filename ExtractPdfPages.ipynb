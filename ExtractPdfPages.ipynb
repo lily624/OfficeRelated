{
 "cells": [
  {
   "cell_type": "code",
   "execution_count": 1,
   "id": "e1c6d02b",
   "metadata": {},
   "outputs": [],
   "source": [
    "from PyPDF2 import PdfFileReader, PdfFileWriter"
   ]
  },
  {
   "cell_type": "code",
   "execution_count": 2,
   "id": "d2ef4855",
   "metadata": {},
   "outputs": [],
   "source": [
    "pdf_file_path = \"SchedulingTheory.pdf\"\n",
    "file_base_name = pdf_file_path.replace('.pdf', '')\n",
    "pdf = PdfFileReader(pdf_file_path)"
   ]
  },
  {
   "cell_type": "code",
   "execution_count": 6,
   "id": "2a52030c",
   "metadata": {},
   "outputs": [],
   "source": [
    "pages = []\n",
    "for i in range(260,279):\n",
    "    pages.append(i)\n",
    "    \n",
    "pdfWriter = PdfFileWriter()\n",
    "for page_num in pages:\n",
    "    pdfWriter.addPage(pdf.getPage(page_num))\n",
    "    \n",
    "with open('{0}_subset.pdf'.format(file_base_name), 'wb') as f:\n",
    "    pdfWriter.write(f)\n",
    "    f.close()"
   ]
  }
 ],
 "metadata": {
  "kernelspec": {
   "display_name": "Python 3",
   "language": "python",
   "name": "python3"
  },
  "language_info": {
   "codemirror_mode": {
    "name": "ipython",
    "version": 3
   },
   "file_extension": ".py",
   "mimetype": "text/x-python",
   "name": "python",
   "nbconvert_exporter": "python",
   "pygments_lexer": "ipython3",
   "version": "3.8.8"
  }
 },
 "nbformat": 4,
 "nbformat_minor": 5
}
